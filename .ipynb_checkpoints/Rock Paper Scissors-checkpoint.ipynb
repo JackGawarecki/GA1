{
 "cells": [
  {
   "cell_type": "markdown",
   "id": "2d7f25f8",
   "metadata": {},
   "source": [
    "# Group Programming Assignment 1\n",
    "## Rock Paper Scissors\n",
    "### Jackson Gawarecki, Michael Staff, and Will Robinson\n",
    "#### Version 1"
   ]
  },
  {
   "cell_type": "code",
   "execution_count": 2,
   "id": "220e195a",
   "metadata": {},
   "outputs": [],
   "source": [
    "import random        #used for computer's choices\n",
    "\n",
    "def play_RPS():\n",
    "    while True:\n",
    "        user_choice=input(\"Enter a choice (Rock, Paper, Scissors): \")   #taking the input from the user\n",
    "\n",
    "\n",
    "        possible_choices= [\"Rock\", \"Paper\", \"Scissors\"]       #List the choices that the computer has\n",
    "        computer_choice= random.choice(possible_choices)      #Randomly select one of the choices\n",
    "\n",
    "        print(f\"You chose {user_choice}, The computer chose {computer_choice}.\")   #Printing out the choices from the user and computer\n",
    "\n",
    "        if user_choice== computer_choice:\n",
    "            print(f\"Both players chose {user_choice}. You tied!\")    #Check if you chose the same thing, if so you tie\n",
    "        elif user_choice== \"Rock\":\n",
    "            if computer_choice== \"Scissors\":\n",
    "                print(\"Rock beats Scissors, You Win!\")              #Check if you chose Rock, if computer picks Scissors, you win\n",
    "            else:\n",
    "                print(\"Paper beats Rock, You lose!\")                 #if computer chose paper, you lose\n",
    "        elif user_choice== \"Paper\":\n",
    "            if computer_choice== \"Rock\":\n",
    "                print(\"Paper beats Rock, You Win!\")                  #Check if you chose Paper, if computer chose rock, you win\n",
    "            else:\n",
    "                print(\"Scissors beats Paper, You lose!\")              #If computer chose scissors, you lose\n",
    "        elif user_choice== \"Scissors\":\n",
    "            if computer_choice== \"Paper\":\n",
    "                print(\"Scissors beats Paper, You win!\")              #Check if you chose scissors, if computer chose paper, you win\n",
    "            else:\n",
    "                print(\"Rock beats Scissors, You lose!\")               #if computer chose rock, you lose\n",
    "        \n",
    "        print(\"Do you want to play again? (Y/N)\")\n",
    "        ans = input()\n",
    "        if ans == 'n' or ans == 'N':                 #if user input n or N then the game ends\n",
    "            break\n",
    "    print(\"Thanks for playing\")                      #after coming out of the while loop we print thanks for playing\n",
    "   \n",
    "\n"
   ]
  },
  {
   "cell_type": "code",
   "execution_count": 3,
   "id": "daba6a99",
   "metadata": {},
   "outputs": [
    {
     "name": "stdout",
     "output_type": "stream",
     "text": [
      "Enter a choice (Rock, Paper, Scissors): Rock\n",
      "You chose Rock, The computer chose Paper.\n",
      "Paper beats Rock, You lose!\n",
      "Do you want to play again? (Y/N)\n",
      "y\n",
      "Enter a choice (Rock, Paper, Scissors): Rock\n",
      "You chose Rock, The computer chose Rock.\n",
      "Both players chose Rock. You tied!\n",
      "Do you want to play again? (Y/N)\n",
      "y\n",
      "Enter a choice (Rock, Paper, Scissors): Rock\n",
      "You chose Rock, The computer chose Scissors.\n",
      "Rock beats Scissors, You Win!\n",
      "Do you want to play again? (Y/N)\n",
      "n\n",
      "Thanks for playing\n"
     ]
    }
   ],
   "source": [
    "play_RPS()"
   ]
  },
  {
   "cell_type": "code",
   "execution_count": null,
   "id": "e9a984dd",
   "metadata": {},
   "outputs": [],
   "source": []
  }
 ],
 "metadata": {
  "kernelspec": {
   "display_name": "Python 3",
   "language": "python",
   "name": "python3"
  },
  "language_info": {
   "codemirror_mode": {
    "name": "ipython",
    "version": 3
   },
   "file_extension": ".py",
   "mimetype": "text/x-python",
   "name": "python",
   "nbconvert_exporter": "python",
   "pygments_lexer": "ipython3",
   "version": "3.8.8"
  }
 },
 "nbformat": 4,
 "nbformat_minor": 5
}
